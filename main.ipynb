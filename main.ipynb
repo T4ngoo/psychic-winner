{
 "cells": [
  {
   "metadata": {},
   "cell_type": "markdown",
   "source": "    ",
   "id": "8bd9b6627f36b05a"
  },
  {
   "cell_type": "code",
   "id": "initial_id",
   "metadata": {
    "collapsed": true,
    "ExecuteTime": {
     "end_time": "2024-11-25T17:43:13.824655Z",
     "start_time": "2024-11-25T17:43:11.724447Z"
    }
   },
   "source": [
    "import math\n",
    "import numpy as np\n",
    "import pandas as pd\n",
    "import matplotlib.pyplot as plt\n",
    "from pandas.core.interchange.dataframe_protocol import DataFrame"
   ],
   "outputs": [],
   "execution_count": 2
  },
  {
   "metadata": {},
   "cell_type": "markdown",
   "source": [
    "1. Is there a company that has no difference between the Open and Close \n",
    "columns? What does it mean from the financial point of view for the stock (you \n",
    "can get bonus partial points)?"
   ],
   "id": "20eafbe7b9ddb27"
  },
  {
   "metadata": {
    "ExecuteTime": {
     "end_time": "2024-11-25T17:46:12.088098Z",
     "start_time": "2024-11-25T17:46:12.011917Z"
    }
   },
   "cell_type": "code",
   "source": [
    "AON = pd.read_csv(\"AON.csv\")\n",
    "MS = pd.read_csv(\"MS.csv\")\n",
    "PSA = pd.read_csv(\"PSA.csv\")\n",
    "UNP = pd.read_csv(\"UNP.csv\")"
   ],
   "id": "a03d6bda0637b70d",
   "outputs": [],
   "execution_count": 4
  },
  {
   "metadata": {
    "ExecuteTime": {
     "end_time": "2024-11-25T17:47:22.467103Z",
     "start_time": "2024-11-25T17:47:22.457626Z"
    }
   },
   "cell_type": "code",
   "source": "firms = [\"AON\", \"MS\", \"PSA\", \"UNP\"]",
   "id": "192c8cba1596db9a",
   "outputs": [],
   "execution_count": 6
  },
  {
   "metadata": {},
   "cell_type": "markdown",
   "source": "",
   "id": "cb2f1c8d556b0cd"
  },
  {
   "metadata": {
    "ExecuteTime": {
     "end_time": "2024-11-25T17:50:26.778160Z",
     "start_time": "2024-11-25T17:50:26.757296Z"
    }
   },
   "cell_type": "code",
   "source": [
    "print(\"AON \" + str(AON[\"Open\"].sum() - AON[\"Close\"].sum()))\n",
    "print(\"MS \" + str(MS[\"Open\"].sum() - MS[\"Close\"].sum()))\n",
    "print(\"PSA \" + str(PSA[\"Open\"].sum() - PSA[\"Close\"].sum()))\n",
    "print(\"UNP \" + str(UNP[\"Open\"].sum() - UNP[\"Close\"].sum()))"
   ],
   "id": "e6611f7f7d70b21a",
   "outputs": [
    {
     "name": "stdout",
     "output_type": "stream",
     "text": [
      "AON -93.88399999996182\n",
      "MS 7.091000000000349\n",
      "PSA 28.597999999998137\n",
      "UNP -16.88300000000163\n"
     ]
    }
   ],
   "execution_count": 12
  },
  {
   "metadata": {},
   "cell_type": "markdown",
   "source": "All firms have a difference, it means the change of value of stocks",
   "id": "af48b7eefe849a0c"
  },
  {
   "metadata": {},
   "cell_type": "markdown",
   "source": "2. What is the highest and lowest price (Close) each company recorded? \n",
   "id": "50613c1bbaf9ad6c"
  },
  {
   "metadata": {},
   "cell_type": "markdown",
   "source": "",
   "id": "b6da53746a5ba20d"
  },
  {
   "metadata": {
    "ExecuteTime": {
     "end_time": "2024-11-25T17:55:38.852821Z",
     "start_time": "2024-11-25T17:55:38.838276Z"
    }
   },
   "cell_type": "code",
   "source": [
    "print(\"AON min: \" + str(AON[\"Close\"].min()) +\" max: \"+ str(AON[\"Close\"].max()))\n",
    "print(\"MS \" + str(MS[\"Close\"].min()) +\" max: \"+ str(MS[\"Close\"].max()))\n",
    "print(\"PSA \" + str(PSA[\"Close\"].min()) +\" max: \"+ str(PSA[\"Close\"].max()))\n",
    "print(\"UNP \" + str(UNP[\"Close\"].min()) +\" max: \"+ str(UNP[\"Close\"].max()))"
   ],
   "id": "c4aba9efa22357a3",
   "outputs": [
    {
     "name": "stdout",
     "output_type": "stream",
     "text": [
      "AON min: 103.481 max: 326.51\n",
      "MS 23.816 max: 98.243\n",
      "PSA 132.484 max: 368.156\n",
      "UNP 86.221 max: 260.918\n"
     ]
    }
   ],
   "execution_count": 16
  },
  {
   "metadata": {},
   "cell_type": "markdown",
   "source": [
    "3.  Calculate logarithmic returns from Close. For each company report on \n",
    "its, min, man, mean, median of the return distribution."
   ],
   "id": "e0d5e86babf57aae"
  },
  {
   "metadata": {
    "ExecuteTime": {
     "end_time": "2024-11-25T18:01:44.129428Z",
     "start_time": "2024-11-25T18:01:44.105328Z"
    }
   },
   "cell_type": "code",
   "source": [
    "AON['lrAON'] = np.log(AON['Close'] / AON['Close'].shift(1))\n",
    "MS['lrMS'] = np.log(MS['Close'] / MS['Close'].shift(1))\n",
    "PSA['lrPSA'] = np.log(PSA['Close'] / PSA['Close'].shift(1))\n",
    "UNP['lrUNP'] = np.log(UNP['Close'] / UNP['Close'].shift(1))\n",
    "\n",
    "\n"
   ],
   "id": "5d56aa7942145660",
   "outputs": [],
   "execution_count": 21
  },
  {
   "metadata": {
    "ExecuteTime": {
     "end_time": "2024-11-25T18:02:06.938235Z",
     "start_time": "2024-11-25T18:02:06.910137Z"
    }
   },
   "cell_type": "code",
   "source": "lrs = pd.DataFrame([AON['lrAON'],MS['lrMS'], PSA['lrPSA'],UNP['lrUNP']]).T",
   "id": "8df47ba0e4991172",
   "outputs": [],
   "execution_count": 24
  },
  {
   "metadata": {
    "ExecuteTime": {
     "end_time": "2024-11-25T18:07:08.435063Z",
     "start_time": "2024-11-25T18:07:08.418913Z"
    }
   },
   "cell_type": "code",
   "source": [
    "for i in range(4):\n",
    "    a = lrs.iloc[:, i]\n",
    "    print(lrs.columns[i]+\" min:\" + str(a.min()))\n",
    "    print(lrs.columns[i]+\" max:\" + str(a.max()))\n",
    "    print(lrs.columns[i]+\" mean:\" + str(a.mean()))\n",
    "    print(lrs.columns[i]+\" median:\" + str(a.median()))\n",
    "    print(\" \")\n"
   ],
   "id": "1db5e956dc29f538",
   "outputs": [
    {
     "name": "stdout",
     "output_type": "stream",
     "text": [
      "lrAON min:-0.18275802270452535\n",
      "lrAON max:0.13218844070774197\n",
      "lrAON mean:0.000691665216454588\n",
      "lrAON median:0.001256755223852679\n",
      " \n",
      "lrMS min:-0.16957385941519132\n",
      "lrMS max:0.18040522759448127\n",
      "lrMS mean:0.000555418035925942\n",
      "lrMS median:0.0004527063427908464\n",
      " \n",
      "lrPSA min:-0.12251802774940553\n",
      "lrPSA max:0.06167431774326661\n",
      "lrPSA mean:0.000309500253552541\n",
      "lrPSA median:0.0009565362407365197\n",
      " \n",
      "lrUNP min:-0.1396580677957621\n",
      "lrUNP max:0.12225152145044878\n",
      "lrUNP mean:0.0005508848373292112\n",
      "lrUNP median:0.0010723419323386881\n",
      " \n"
     ]
    }
   ],
   "execution_count": 35
  },
  {
   "metadata": {},
   "cell_type": "markdown",
   "source": "4. When did each company record the highest gain and highest loss for the day?",
   "id": "bd9a4258343ef051"
  },
  {
   "metadata": {
    "ExecuteTime": {
     "end_time": "2024-11-25T18:11:46.886063Z",
     "start_time": "2024-11-25T18:11:46.856427Z"
    }
   },
   "cell_type": "code",
   "source": "AON",
   "id": "384c560e0fe9e6b1",
   "outputs": [
    {
     "data": {
      "text/plain": [
       "            Date     Open     High      Low    Close  Volume  Dividends  \\\n",
       "0     2017-01-03  104.034  104.322  103.431  104.025  839000        0.0   \n",
       "1     2017-01-04  104.350  105.380  104.127  105.167  962400        0.0   \n",
       "2     2017-01-05  104.851  105.399  104.238  105.324  792300        0.0   \n",
       "3     2017-01-06  105.779  106.587  105.389  106.132  642000        0.0   \n",
       "4     2017-01-09  105.723  106.048  105.250  105.250  727100        0.0   \n",
       "...          ...      ...      ...      ...      ...     ...        ...   \n",
       "1505  2022-12-23  294.491  297.385  293.537  295.849  430000        0.0   \n",
       "1506  2022-12-27  296.066  297.670  294.836  296.223  338900        0.0   \n",
       "1507  2022-12-28  296.962  297.867  294.600  294.787  384700        0.0   \n",
       "1508  2022-12-29  297.208  299.737  293.861  298.595  404600        0.0   \n",
       "1509  2022-12-30  296.568  297.286  292.237  295.407  433000        0.0   \n",
       "\n",
       "      Stock Splits     lrAON      lrMS     lrPSA     lrUNP  \n",
       "0              0.0       NaN       NaN       NaN       NaN  \n",
       "1              0.0  0.010918  0.013146  0.007306  0.006036  \n",
       "2              0.0  0.001492 -0.009202  0.010602 -0.009845  \n",
       "3              0.0  0.007642  0.014475  0.003469  0.010327  \n",
       "4              0.0 -0.008345 -0.026356 -0.006854 -0.007489  \n",
       "...            ...       ...       ...       ...       ...  \n",
       "1505           0.0  0.001465 -0.003009  0.011434  0.005974  \n",
       "1506           0.0  0.001263 -0.012265 -0.000600  0.001954  \n",
       "1507           0.0 -0.004859 -0.007087 -0.018002 -0.016543  \n",
       "1508           0.0  0.012835  0.009199  0.016375  0.011298  \n",
       "1509           0.0 -0.010734 -0.002592 -0.008494 -0.010332  \n",
       "\n",
       "[1510 rows x 12 columns]"
      ],
      "text/html": [
       "<div>\n",
       "<style scoped>\n",
       "    .dataframe tbody tr th:only-of-type {\n",
       "        vertical-align: middle;\n",
       "    }\n",
       "\n",
       "    .dataframe tbody tr th {\n",
       "        vertical-align: top;\n",
       "    }\n",
       "\n",
       "    .dataframe thead th {\n",
       "        text-align: right;\n",
       "    }\n",
       "</style>\n",
       "<table border=\"1\" class=\"dataframe\">\n",
       "  <thead>\n",
       "    <tr style=\"text-align: right;\">\n",
       "      <th></th>\n",
       "      <th>Date</th>\n",
       "      <th>Open</th>\n",
       "      <th>High</th>\n",
       "      <th>Low</th>\n",
       "      <th>Close</th>\n",
       "      <th>Volume</th>\n",
       "      <th>Dividends</th>\n",
       "      <th>Stock Splits</th>\n",
       "      <th>lrAON</th>\n",
       "      <th>lrMS</th>\n",
       "      <th>lrPSA</th>\n",
       "      <th>lrUNP</th>\n",
       "    </tr>\n",
       "  </thead>\n",
       "  <tbody>\n",
       "    <tr>\n",
       "      <th>0</th>\n",
       "      <td>2017-01-03</td>\n",
       "      <td>104.034</td>\n",
       "      <td>104.322</td>\n",
       "      <td>103.431</td>\n",
       "      <td>104.025</td>\n",
       "      <td>839000</td>\n",
       "      <td>0.0</td>\n",
       "      <td>0.0</td>\n",
       "      <td>NaN</td>\n",
       "      <td>NaN</td>\n",
       "      <td>NaN</td>\n",
       "      <td>NaN</td>\n",
       "    </tr>\n",
       "    <tr>\n",
       "      <th>1</th>\n",
       "      <td>2017-01-04</td>\n",
       "      <td>104.350</td>\n",
       "      <td>105.380</td>\n",
       "      <td>104.127</td>\n",
       "      <td>105.167</td>\n",
       "      <td>962400</td>\n",
       "      <td>0.0</td>\n",
       "      <td>0.0</td>\n",
       "      <td>0.010918</td>\n",
       "      <td>0.013146</td>\n",
       "      <td>0.007306</td>\n",
       "      <td>0.006036</td>\n",
       "    </tr>\n",
       "    <tr>\n",
       "      <th>2</th>\n",
       "      <td>2017-01-05</td>\n",
       "      <td>104.851</td>\n",
       "      <td>105.399</td>\n",
       "      <td>104.238</td>\n",
       "      <td>105.324</td>\n",
       "      <td>792300</td>\n",
       "      <td>0.0</td>\n",
       "      <td>0.0</td>\n",
       "      <td>0.001492</td>\n",
       "      <td>-0.009202</td>\n",
       "      <td>0.010602</td>\n",
       "      <td>-0.009845</td>\n",
       "    </tr>\n",
       "    <tr>\n",
       "      <th>3</th>\n",
       "      <td>2017-01-06</td>\n",
       "      <td>105.779</td>\n",
       "      <td>106.587</td>\n",
       "      <td>105.389</td>\n",
       "      <td>106.132</td>\n",
       "      <td>642000</td>\n",
       "      <td>0.0</td>\n",
       "      <td>0.0</td>\n",
       "      <td>0.007642</td>\n",
       "      <td>0.014475</td>\n",
       "      <td>0.003469</td>\n",
       "      <td>0.010327</td>\n",
       "    </tr>\n",
       "    <tr>\n",
       "      <th>4</th>\n",
       "      <td>2017-01-09</td>\n",
       "      <td>105.723</td>\n",
       "      <td>106.048</td>\n",
       "      <td>105.250</td>\n",
       "      <td>105.250</td>\n",
       "      <td>727100</td>\n",
       "      <td>0.0</td>\n",
       "      <td>0.0</td>\n",
       "      <td>-0.008345</td>\n",
       "      <td>-0.026356</td>\n",
       "      <td>-0.006854</td>\n",
       "      <td>-0.007489</td>\n",
       "    </tr>\n",
       "    <tr>\n",
       "      <th>...</th>\n",
       "      <td>...</td>\n",
       "      <td>...</td>\n",
       "      <td>...</td>\n",
       "      <td>...</td>\n",
       "      <td>...</td>\n",
       "      <td>...</td>\n",
       "      <td>...</td>\n",
       "      <td>...</td>\n",
       "      <td>...</td>\n",
       "      <td>...</td>\n",
       "      <td>...</td>\n",
       "      <td>...</td>\n",
       "    </tr>\n",
       "    <tr>\n",
       "      <th>1505</th>\n",
       "      <td>2022-12-23</td>\n",
       "      <td>294.491</td>\n",
       "      <td>297.385</td>\n",
       "      <td>293.537</td>\n",
       "      <td>295.849</td>\n",
       "      <td>430000</td>\n",
       "      <td>0.0</td>\n",
       "      <td>0.0</td>\n",
       "      <td>0.001465</td>\n",
       "      <td>-0.003009</td>\n",
       "      <td>0.011434</td>\n",
       "      <td>0.005974</td>\n",
       "    </tr>\n",
       "    <tr>\n",
       "      <th>1506</th>\n",
       "      <td>2022-12-27</td>\n",
       "      <td>296.066</td>\n",
       "      <td>297.670</td>\n",
       "      <td>294.836</td>\n",
       "      <td>296.223</td>\n",
       "      <td>338900</td>\n",
       "      <td>0.0</td>\n",
       "      <td>0.0</td>\n",
       "      <td>0.001263</td>\n",
       "      <td>-0.012265</td>\n",
       "      <td>-0.000600</td>\n",
       "      <td>0.001954</td>\n",
       "    </tr>\n",
       "    <tr>\n",
       "      <th>1507</th>\n",
       "      <td>2022-12-28</td>\n",
       "      <td>296.962</td>\n",
       "      <td>297.867</td>\n",
       "      <td>294.600</td>\n",
       "      <td>294.787</td>\n",
       "      <td>384700</td>\n",
       "      <td>0.0</td>\n",
       "      <td>0.0</td>\n",
       "      <td>-0.004859</td>\n",
       "      <td>-0.007087</td>\n",
       "      <td>-0.018002</td>\n",
       "      <td>-0.016543</td>\n",
       "    </tr>\n",
       "    <tr>\n",
       "      <th>1508</th>\n",
       "      <td>2022-12-29</td>\n",
       "      <td>297.208</td>\n",
       "      <td>299.737</td>\n",
       "      <td>293.861</td>\n",
       "      <td>298.595</td>\n",
       "      <td>404600</td>\n",
       "      <td>0.0</td>\n",
       "      <td>0.0</td>\n",
       "      <td>0.012835</td>\n",
       "      <td>0.009199</td>\n",
       "      <td>0.016375</td>\n",
       "      <td>0.011298</td>\n",
       "    </tr>\n",
       "    <tr>\n",
       "      <th>1509</th>\n",
       "      <td>2022-12-30</td>\n",
       "      <td>296.568</td>\n",
       "      <td>297.286</td>\n",
       "      <td>292.237</td>\n",
       "      <td>295.407</td>\n",
       "      <td>433000</td>\n",
       "      <td>0.0</td>\n",
       "      <td>0.0</td>\n",
       "      <td>-0.010734</td>\n",
       "      <td>-0.002592</td>\n",
       "      <td>-0.008494</td>\n",
       "      <td>-0.010332</td>\n",
       "    </tr>\n",
       "  </tbody>\n",
       "</table>\n",
       "<p>1510 rows × 12 columns</p>\n",
       "</div>"
      ]
     },
     "execution_count": 38,
     "metadata": {},
     "output_type": "execute_result"
    }
   ],
   "execution_count": 38
  },
  {
   "metadata": {
    "ExecuteTime": {
     "end_time": "2024-11-25T18:12:35.866491Z",
     "start_time": "2024-11-25T18:12:35.749561Z"
    }
   },
   "cell_type": "code",
   "source": "AON.resample('W-MON', label=\"left\")",
   "id": "45d78adae2a12a67",
   "outputs": [
    {
     "ename": "TypeError",
     "evalue": "Only valid with DatetimeIndex, TimedeltaIndex or PeriodIndex, but got an instance of 'RangeIndex'",
     "output_type": "error",
     "traceback": [
      "\u001B[1;31m---------------------------------------------------------------------------\u001B[0m",
      "\u001B[1;31mTypeError\u001B[0m                                 Traceback (most recent call last)",
      "Cell \u001B[1;32mIn[40], line 1\u001B[0m\n\u001B[1;32m----> 1\u001B[0m \u001B[43mAON\u001B[49m\u001B[38;5;241;43m.\u001B[39;49m\u001B[43mresample\u001B[49m\u001B[43m(\u001B[49m\u001B[38;5;124;43m'\u001B[39;49m\u001B[38;5;124;43mW-MON\u001B[39;49m\u001B[38;5;124;43m'\u001B[39;49m\u001B[43m,\u001B[49m\u001B[43m \u001B[49m\u001B[43mlabel\u001B[49m\u001B[38;5;241;43m=\u001B[39;49m\u001B[38;5;124;43m\"\u001B[39;49m\u001B[38;5;124;43mleft\u001B[39;49m\u001B[38;5;124;43m\"\u001B[39;49m\u001B[43m)\u001B[49m\n",
      "File \u001B[1;32m~\\AppData\\Local\\Programs\\Python\\Python312\\Lib\\site-packages\\pandas\\core\\generic.py:9771\u001B[0m, in \u001B[0;36mNDFrame.resample\u001B[1;34m(self, rule, axis, closed, label, convention, kind, on, level, origin, offset, group_keys)\u001B[0m\n\u001B[0;32m   9768\u001B[0m \u001B[38;5;28;01melse\u001B[39;00m:\n\u001B[0;32m   9769\u001B[0m     convention \u001B[38;5;241m=\u001B[39m \u001B[38;5;124m\"\u001B[39m\u001B[38;5;124mstart\u001B[39m\u001B[38;5;124m\"\u001B[39m\n\u001B[1;32m-> 9771\u001B[0m \u001B[38;5;28;01mreturn\u001B[39;00m \u001B[43mget_resampler\u001B[49m\u001B[43m(\u001B[49m\n\u001B[0;32m   9772\u001B[0m \u001B[43m    \u001B[49m\u001B[43mcast\u001B[49m\u001B[43m(\u001B[49m\u001B[38;5;124;43m\"\u001B[39;49m\u001B[38;5;124;43mSeries | DataFrame\u001B[39;49m\u001B[38;5;124;43m\"\u001B[39;49m\u001B[43m,\u001B[49m\u001B[43m \u001B[49m\u001B[38;5;28;43mself\u001B[39;49m\u001B[43m)\u001B[49m\u001B[43m,\u001B[49m\n\u001B[0;32m   9773\u001B[0m \u001B[43m    \u001B[49m\u001B[43mfreq\u001B[49m\u001B[38;5;241;43m=\u001B[39;49m\u001B[43mrule\u001B[49m\u001B[43m,\u001B[49m\n\u001B[0;32m   9774\u001B[0m \u001B[43m    \u001B[49m\u001B[43mlabel\u001B[49m\u001B[38;5;241;43m=\u001B[39;49m\u001B[43mlabel\u001B[49m\u001B[43m,\u001B[49m\n\u001B[0;32m   9775\u001B[0m \u001B[43m    \u001B[49m\u001B[43mclosed\u001B[49m\u001B[38;5;241;43m=\u001B[39;49m\u001B[43mclosed\u001B[49m\u001B[43m,\u001B[49m\n\u001B[0;32m   9776\u001B[0m \u001B[43m    \u001B[49m\u001B[43maxis\u001B[49m\u001B[38;5;241;43m=\u001B[39;49m\u001B[43maxis\u001B[49m\u001B[43m,\u001B[49m\n\u001B[0;32m   9777\u001B[0m \u001B[43m    \u001B[49m\u001B[43mkind\u001B[49m\u001B[38;5;241;43m=\u001B[39;49m\u001B[43mkind\u001B[49m\u001B[43m,\u001B[49m\n\u001B[0;32m   9778\u001B[0m \u001B[43m    \u001B[49m\u001B[43mconvention\u001B[49m\u001B[38;5;241;43m=\u001B[39;49m\u001B[43mconvention\u001B[49m\u001B[43m,\u001B[49m\n\u001B[0;32m   9779\u001B[0m \u001B[43m    \u001B[49m\u001B[43mkey\u001B[49m\u001B[38;5;241;43m=\u001B[39;49m\u001B[43mon\u001B[49m\u001B[43m,\u001B[49m\n\u001B[0;32m   9780\u001B[0m \u001B[43m    \u001B[49m\u001B[43mlevel\u001B[49m\u001B[38;5;241;43m=\u001B[39;49m\u001B[43mlevel\u001B[49m\u001B[43m,\u001B[49m\n\u001B[0;32m   9781\u001B[0m \u001B[43m    \u001B[49m\u001B[43morigin\u001B[49m\u001B[38;5;241;43m=\u001B[39;49m\u001B[43morigin\u001B[49m\u001B[43m,\u001B[49m\n\u001B[0;32m   9782\u001B[0m \u001B[43m    \u001B[49m\u001B[43moffset\u001B[49m\u001B[38;5;241;43m=\u001B[39;49m\u001B[43moffset\u001B[49m\u001B[43m,\u001B[49m\n\u001B[0;32m   9783\u001B[0m \u001B[43m    \u001B[49m\u001B[43mgroup_keys\u001B[49m\u001B[38;5;241;43m=\u001B[39;49m\u001B[43mgroup_keys\u001B[49m\u001B[43m,\u001B[49m\n\u001B[0;32m   9784\u001B[0m \u001B[43m\u001B[49m\u001B[43m)\u001B[49m\n",
      "File \u001B[1;32m~\\AppData\\Local\\Programs\\Python\\Python312\\Lib\\site-packages\\pandas\\core\\resample.py:2050\u001B[0m, in \u001B[0;36mget_resampler\u001B[1;34m(obj, kind, **kwds)\u001B[0m\n\u001B[0;32m   2046\u001B[0m \u001B[38;5;250m\u001B[39m\u001B[38;5;124;03m\"\"\"\u001B[39;00m\n\u001B[0;32m   2047\u001B[0m \u001B[38;5;124;03mCreate a TimeGrouper and return our resampler.\u001B[39;00m\n\u001B[0;32m   2048\u001B[0m \u001B[38;5;124;03m\"\"\"\u001B[39;00m\n\u001B[0;32m   2049\u001B[0m tg \u001B[38;5;241m=\u001B[39m TimeGrouper(obj, \u001B[38;5;241m*\u001B[39m\u001B[38;5;241m*\u001B[39mkwds)  \u001B[38;5;66;03m# type: ignore[arg-type]\u001B[39;00m\n\u001B[1;32m-> 2050\u001B[0m \u001B[38;5;28;01mreturn\u001B[39;00m \u001B[43mtg\u001B[49m\u001B[38;5;241;43m.\u001B[39;49m\u001B[43m_get_resampler\u001B[49m\u001B[43m(\u001B[49m\u001B[43mobj\u001B[49m\u001B[43m,\u001B[49m\u001B[43m \u001B[49m\u001B[43mkind\u001B[49m\u001B[38;5;241;43m=\u001B[39;49m\u001B[43mkind\u001B[49m\u001B[43m)\u001B[49m\n",
      "File \u001B[1;32m~\\AppData\\Local\\Programs\\Python\\Python312\\Lib\\site-packages\\pandas\\core\\resample.py:2272\u001B[0m, in \u001B[0;36mTimeGrouper._get_resampler\u001B[1;34m(self, obj, kind)\u001B[0m\n\u001B[0;32m   2263\u001B[0m \u001B[38;5;28;01melif\u001B[39;00m \u001B[38;5;28misinstance\u001B[39m(ax, TimedeltaIndex):\n\u001B[0;32m   2264\u001B[0m     \u001B[38;5;28;01mreturn\u001B[39;00m TimedeltaIndexResampler(\n\u001B[0;32m   2265\u001B[0m         obj,\n\u001B[0;32m   2266\u001B[0m         timegrouper\u001B[38;5;241m=\u001B[39m\u001B[38;5;28mself\u001B[39m,\n\u001B[1;32m   (...)\u001B[0m\n\u001B[0;32m   2269\u001B[0m         gpr_index\u001B[38;5;241m=\u001B[39max,\n\u001B[0;32m   2270\u001B[0m     )\n\u001B[1;32m-> 2272\u001B[0m \u001B[38;5;28;01mraise\u001B[39;00m \u001B[38;5;167;01mTypeError\u001B[39;00m(\n\u001B[0;32m   2273\u001B[0m     \u001B[38;5;124m\"\u001B[39m\u001B[38;5;124mOnly valid with DatetimeIndex, \u001B[39m\u001B[38;5;124m\"\u001B[39m\n\u001B[0;32m   2274\u001B[0m     \u001B[38;5;124m\"\u001B[39m\u001B[38;5;124mTimedeltaIndex or PeriodIndex, \u001B[39m\u001B[38;5;124m\"\u001B[39m\n\u001B[0;32m   2275\u001B[0m     \u001B[38;5;124mf\u001B[39m\u001B[38;5;124m\"\u001B[39m\u001B[38;5;124mbut got an instance of \u001B[39m\u001B[38;5;124m'\u001B[39m\u001B[38;5;132;01m{\u001B[39;00m\u001B[38;5;28mtype\u001B[39m(ax)\u001B[38;5;241m.\u001B[39m\u001B[38;5;18m__name__\u001B[39m\u001B[38;5;132;01m}\u001B[39;00m\u001B[38;5;124m'\u001B[39m\u001B[38;5;124m\"\u001B[39m\n\u001B[0;32m   2276\u001B[0m )\n",
      "\u001B[1;31mTypeError\u001B[0m: Only valid with DatetimeIndex, TimedeltaIndex or PeriodIndex, but got an instance of 'RangeIndex'"
     ]
    }
   ],
   "execution_count": 40
  },
  {
   "metadata": {
    "ExecuteTime": {
     "end_time": "2024-11-25T18:15:41.196209Z",
     "start_time": "2024-11-25T18:15:41.175249Z"
    }
   },
   "cell_type": "code",
   "source": "sap = pd.read_csv(\"companies_no_subindustry.csv\")",
   "id": "bf8ff2e6f4bad3c8",
   "outputs": [],
   "execution_count": 41
  },
  {
   "metadata": {},
   "cell_type": "markdown",
   "source": [
    "1. Find out how many companies do not filled-in the date of inclusion (column\n",
    "“included”) to S&P 500. "
   ],
   "id": "51ee9a4b49d20695"
  },
  {
   "metadata": {
    "ExecuteTime": {
     "end_time": "2024-11-25T18:18:15.834205Z",
     "start_time": "2024-11-25T18:18:15.822084Z"
    }
   },
   "cell_type": "code",
   "source": "sap[sap[\"included\"].isna()].shape[0]",
   "id": "d2d9846b5891910c",
   "outputs": [
    {
     "data": {
      "text/plain": [
       "45"
      ]
     },
     "execution_count": 47,
     "metadata": {},
     "output_type": "execute_result"
    }
   ],
   "execution_count": 47
  },
  {
   "metadata": {},
   "cell_type": "markdown",
   "source": [
    "2. Delete the companies with no inclusion date and calculate which company is\n",
    "the oldest/youngest constituent and tell us the average age of a constituent in\n",
    "the sample. If you need to fix anything or make any assumptions, comment on\n",
    "them in the code."
   ],
   "id": "56df3555e308e50"
  },
  {
   "metadata": {
    "ExecuteTime": {
     "end_time": "2024-11-25T18:22:39.804399Z",
     "start_time": "2024-11-25T18:22:39.788802Z"
    }
   },
   "cell_type": "code",
   "source": [
    "dpd = sap.dropna()\n",
    "#Newest\n",
    "dpd[dpd[\"included\"] == dpd[\"included\"].max()][\"Symbol\"]"
   ],
   "id": "a5aa02eb3d44bd2d",
   "outputs": [
    {
     "data": {
      "text/plain": [
       "3    ABBV\n",
       "Name: Symbol, dtype: object"
      ]
     },
     "execution_count": 57,
     "metadata": {},
     "output_type": "execute_result"
    }
   ],
   "execution_count": 57
  },
  {
   "metadata": {
    "ExecuteTime": {
     "end_time": "2024-11-25T18:23:07.410279Z",
     "start_time": "2024-11-25T18:23:07.381690Z"
    }
   },
   "cell_type": "code",
   "source": [
    "#Oldest\n",
    "dpd[dpd[\"included\"] == dpd[\"included\"].min()][\"Symbol\"]"
   ],
   "id": "906dc9d164fe8827",
   "outputs": [
    {
     "data": {
      "text/plain": [
       "163    EMN\n",
       "Name: Symbol, dtype: object"
      ]
     },
     "execution_count": 58,
     "metadata": {},
     "output_type": "execute_result"
    }
   ],
   "execution_count": 58
  },
  {
   "metadata": {
    "ExecuteTime": {
     "end_time": "2024-11-25T18:25:05.923162Z",
     "start_time": "2024-11-25T18:25:05.896292Z"
    }
   },
   "cell_type": "code",
   "source": "dpd[\"converted\"] = dpd.to_datetime(dpd.included).values.astype(np.int64)\n",
   "id": "f638c68cb4c0759f",
   "outputs": [
    {
     "ename": "AttributeError",
     "evalue": "'DataFrame' object has no attribute 'to_datetime'",
     "output_type": "error",
     "traceback": [
      "\u001B[1;31m---------------------------------------------------------------------------\u001B[0m",
      "\u001B[1;31mAttributeError\u001B[0m                            Traceback (most recent call last)",
      "\u001B[1;32m~\\AppData\\Local\\Temp\\ipykernel_21352\\42416873.py\u001B[0m in \u001B[0;36m?\u001B[1;34m()\u001B[0m\n\u001B[1;32m----> 1\u001B[1;33m \u001B[0mdpd\u001B[0m\u001B[1;33m[\u001B[0m\u001B[1;34m\"converted\"\u001B[0m\u001B[1;33m]\u001B[0m \u001B[1;33m=\u001B[0m \u001B[0mdpd\u001B[0m\u001B[1;33m.\u001B[0m\u001B[0mto_datetime\u001B[0m\u001B[1;33m(\u001B[0m\u001B[0mdpd\u001B[0m\u001B[1;33m.\u001B[0m\u001B[0mincluded\u001B[0m\u001B[1;33m)\u001B[0m\u001B[1;33m.\u001B[0m\u001B[0mvalues\u001B[0m\u001B[1;33m.\u001B[0m\u001B[0mastype\u001B[0m\u001B[1;33m(\u001B[0m\u001B[0mnp\u001B[0m\u001B[1;33m.\u001B[0m\u001B[0mint64\u001B[0m\u001B[1;33m)\u001B[0m\u001B[1;33m\u001B[0m\u001B[1;33m\u001B[0m\u001B[0m\n\u001B[0m\u001B[0;32m      2\u001B[0m \u001B[1;33m\u001B[0m\u001B[0m\n",
      "\u001B[1;32m~\\AppData\\Local\\Programs\\Python\\Python312\\Lib\\site-packages\\pandas\\core\\generic.py\u001B[0m in \u001B[0;36m?\u001B[1;34m(self, name)\u001B[0m\n\u001B[0;32m   6295\u001B[0m             \u001B[1;32mand\u001B[0m \u001B[0mname\u001B[0m \u001B[1;32mnot\u001B[0m \u001B[1;32min\u001B[0m \u001B[0mself\u001B[0m\u001B[1;33m.\u001B[0m\u001B[0m_accessors\u001B[0m\u001B[1;33m\u001B[0m\u001B[1;33m\u001B[0m\u001B[0m\n\u001B[0;32m   6296\u001B[0m             \u001B[1;32mand\u001B[0m \u001B[0mself\u001B[0m\u001B[1;33m.\u001B[0m\u001B[0m_info_axis\u001B[0m\u001B[1;33m.\u001B[0m\u001B[0m_can_hold_identifiers_and_holds_name\u001B[0m\u001B[1;33m(\u001B[0m\u001B[0mname\u001B[0m\u001B[1;33m)\u001B[0m\u001B[1;33m\u001B[0m\u001B[1;33m\u001B[0m\u001B[0m\n\u001B[0;32m   6297\u001B[0m         \u001B[1;33m)\u001B[0m\u001B[1;33m:\u001B[0m\u001B[1;33m\u001B[0m\u001B[1;33m\u001B[0m\u001B[0m\n\u001B[0;32m   6298\u001B[0m             \u001B[1;32mreturn\u001B[0m \u001B[0mself\u001B[0m\u001B[1;33m[\u001B[0m\u001B[0mname\u001B[0m\u001B[1;33m]\u001B[0m\u001B[1;33m\u001B[0m\u001B[1;33m\u001B[0m\u001B[0m\n\u001B[1;32m-> 6299\u001B[1;33m         \u001B[1;32mreturn\u001B[0m \u001B[0mobject\u001B[0m\u001B[1;33m.\u001B[0m\u001B[0m__getattribute__\u001B[0m\u001B[1;33m(\u001B[0m\u001B[0mself\u001B[0m\u001B[1;33m,\u001B[0m \u001B[0mname\u001B[0m\u001B[1;33m)\u001B[0m\u001B[1;33m\u001B[0m\u001B[1;33m\u001B[0m\u001B[0m\n\u001B[0m",
      "\u001B[1;31mAttributeError\u001B[0m: 'DataFrame' object has no attribute 'to_datetime'"
     ]
    }
   ],
   "execution_count": 60
  },
  {
   "metadata": {
    "ExecuteTime": {
     "end_time": "2024-11-25T18:29:40.484331Z",
     "start_time": "2024-11-25T18:29:40.204722Z"
    }
   },
   "cell_type": "code",
   "source": "pd.to_datetime(dpd.included, format=\"mixed\")",
   "id": "657c28fa7251b7d6",
   "outputs": [
    {
     "ename": "DateParseError",
     "evalue": "Unknown datetime string format, unable to parse: 1983-11-30 (1957-03-04), at position 51",
     "output_type": "error",
     "traceback": [
      "\u001B[1;31m---------------------------------------------------------------------------\u001B[0m",
      "\u001B[1;31mDateParseError\u001B[0m                            Traceback (most recent call last)",
      "Cell \u001B[1;32mIn[69], line 1\u001B[0m\n\u001B[1;32m----> 1\u001B[0m \u001B[43mpd\u001B[49m\u001B[38;5;241;43m.\u001B[39;49m\u001B[43mto_datetime\u001B[49m\u001B[43m(\u001B[49m\u001B[43mdpd\u001B[49m\u001B[38;5;241;43m.\u001B[39;49m\u001B[43mincluded\u001B[49m\u001B[43m,\u001B[49m\u001B[43m \u001B[49m\u001B[38;5;28;43mformat\u001B[39;49m\u001B[38;5;241;43m=\u001B[39;49m\u001B[38;5;124;43m\"\u001B[39;49m\u001B[38;5;124;43mmixed\u001B[39;49m\u001B[38;5;124;43m\"\u001B[39;49m\u001B[43m)\u001B[49m\n",
      "File \u001B[1;32m~\\AppData\\Local\\Programs\\Python\\Python312\\Lib\\site-packages\\pandas\\core\\tools\\datetimes.py:1067\u001B[0m, in \u001B[0;36mto_datetime\u001B[1;34m(arg, errors, dayfirst, yearfirst, utc, format, exact, unit, infer_datetime_format, origin, cache)\u001B[0m\n\u001B[0;32m   1065\u001B[0m         result \u001B[38;5;241m=\u001B[39m arg\u001B[38;5;241m.\u001B[39mmap(cache_array)\n\u001B[0;32m   1066\u001B[0m     \u001B[38;5;28;01melse\u001B[39;00m:\n\u001B[1;32m-> 1067\u001B[0m         values \u001B[38;5;241m=\u001B[39m \u001B[43mconvert_listlike\u001B[49m\u001B[43m(\u001B[49m\u001B[43marg\u001B[49m\u001B[38;5;241;43m.\u001B[39;49m\u001B[43m_values\u001B[49m\u001B[43m,\u001B[49m\u001B[43m \u001B[49m\u001B[38;5;28;43mformat\u001B[39;49m\u001B[43m)\u001B[49m\n\u001B[0;32m   1068\u001B[0m         result \u001B[38;5;241m=\u001B[39m arg\u001B[38;5;241m.\u001B[39m_constructor(values, index\u001B[38;5;241m=\u001B[39marg\u001B[38;5;241m.\u001B[39mindex, name\u001B[38;5;241m=\u001B[39marg\u001B[38;5;241m.\u001B[39mname)\n\u001B[0;32m   1069\u001B[0m \u001B[38;5;28;01melif\u001B[39;00m \u001B[38;5;28misinstance\u001B[39m(arg, (ABCDataFrame, abc\u001B[38;5;241m.\u001B[39mMutableMapping)):\n",
      "File \u001B[1;32m~\\AppData\\Local\\Programs\\Python\\Python312\\Lib\\site-packages\\pandas\\core\\tools\\datetimes.py:435\u001B[0m, in \u001B[0;36m_convert_listlike_datetimes\u001B[1;34m(arg, format, name, utc, unit, errors, dayfirst, yearfirst, exact)\u001B[0m\n\u001B[0;32m    432\u001B[0m \u001B[38;5;28;01mif\u001B[39;00m \u001B[38;5;28mformat\u001B[39m \u001B[38;5;129;01mis\u001B[39;00m \u001B[38;5;129;01mnot\u001B[39;00m \u001B[38;5;28;01mNone\u001B[39;00m \u001B[38;5;129;01mand\u001B[39;00m \u001B[38;5;28mformat\u001B[39m \u001B[38;5;241m!=\u001B[39m \u001B[38;5;124m\"\u001B[39m\u001B[38;5;124mmixed\u001B[39m\u001B[38;5;124m\"\u001B[39m:\n\u001B[0;32m    433\u001B[0m     \u001B[38;5;28;01mreturn\u001B[39;00m _array_strptime_with_fallback(arg, name, utc, \u001B[38;5;28mformat\u001B[39m, exact, errors)\n\u001B[1;32m--> 435\u001B[0m result, tz_parsed \u001B[38;5;241m=\u001B[39m \u001B[43mobjects_to_datetime64\u001B[49m\u001B[43m(\u001B[49m\n\u001B[0;32m    436\u001B[0m \u001B[43m    \u001B[49m\u001B[43marg\u001B[49m\u001B[43m,\u001B[49m\n\u001B[0;32m    437\u001B[0m \u001B[43m    \u001B[49m\u001B[43mdayfirst\u001B[49m\u001B[38;5;241;43m=\u001B[39;49m\u001B[43mdayfirst\u001B[49m\u001B[43m,\u001B[49m\n\u001B[0;32m    438\u001B[0m \u001B[43m    \u001B[49m\u001B[43myearfirst\u001B[49m\u001B[38;5;241;43m=\u001B[39;49m\u001B[43myearfirst\u001B[49m\u001B[43m,\u001B[49m\n\u001B[0;32m    439\u001B[0m \u001B[43m    \u001B[49m\u001B[43mutc\u001B[49m\u001B[38;5;241;43m=\u001B[39;49m\u001B[43mutc\u001B[49m\u001B[43m,\u001B[49m\n\u001B[0;32m    440\u001B[0m \u001B[43m    \u001B[49m\u001B[43merrors\u001B[49m\u001B[38;5;241;43m=\u001B[39;49m\u001B[43merrors\u001B[49m\u001B[43m,\u001B[49m\n\u001B[0;32m    441\u001B[0m \u001B[43m    \u001B[49m\u001B[43mallow_object\u001B[49m\u001B[38;5;241;43m=\u001B[39;49m\u001B[38;5;28;43;01mTrue\u001B[39;49;00m\u001B[43m,\u001B[49m\n\u001B[0;32m    442\u001B[0m \u001B[43m\u001B[49m\u001B[43m)\u001B[49m\n\u001B[0;32m    444\u001B[0m \u001B[38;5;28;01mif\u001B[39;00m tz_parsed \u001B[38;5;129;01mis\u001B[39;00m \u001B[38;5;129;01mnot\u001B[39;00m \u001B[38;5;28;01mNone\u001B[39;00m:\n\u001B[0;32m    445\u001B[0m     \u001B[38;5;66;03m# We can take a shortcut since the datetime64 numpy array\u001B[39;00m\n\u001B[0;32m    446\u001B[0m     \u001B[38;5;66;03m# is in UTC\u001B[39;00m\n\u001B[0;32m    447\u001B[0m     out_unit \u001B[38;5;241m=\u001B[39m np\u001B[38;5;241m.\u001B[39mdatetime_data(result\u001B[38;5;241m.\u001B[39mdtype)[\u001B[38;5;241m0\u001B[39m]\n",
      "File \u001B[1;32m~\\AppData\\Local\\Programs\\Python\\Python312\\Lib\\site-packages\\pandas\\core\\arrays\\datetimes.py:2398\u001B[0m, in \u001B[0;36mobjects_to_datetime64\u001B[1;34m(data, dayfirst, yearfirst, utc, errors, allow_object, out_unit)\u001B[0m\n\u001B[0;32m   2395\u001B[0m \u001B[38;5;66;03m# if str-dtype, convert\u001B[39;00m\n\u001B[0;32m   2396\u001B[0m data \u001B[38;5;241m=\u001B[39m np\u001B[38;5;241m.\u001B[39masarray(data, dtype\u001B[38;5;241m=\u001B[39mnp\u001B[38;5;241m.\u001B[39mobject_)\n\u001B[1;32m-> 2398\u001B[0m result, tz_parsed \u001B[38;5;241m=\u001B[39m \u001B[43mtslib\u001B[49m\u001B[38;5;241;43m.\u001B[39;49m\u001B[43marray_to_datetime\u001B[49m\u001B[43m(\u001B[49m\n\u001B[0;32m   2399\u001B[0m \u001B[43m    \u001B[49m\u001B[43mdata\u001B[49m\u001B[43m,\u001B[49m\n\u001B[0;32m   2400\u001B[0m \u001B[43m    \u001B[49m\u001B[43merrors\u001B[49m\u001B[38;5;241;43m=\u001B[39;49m\u001B[43merrors\u001B[49m\u001B[43m,\u001B[49m\n\u001B[0;32m   2401\u001B[0m \u001B[43m    \u001B[49m\u001B[43mutc\u001B[49m\u001B[38;5;241;43m=\u001B[39;49m\u001B[43mutc\u001B[49m\u001B[43m,\u001B[49m\n\u001B[0;32m   2402\u001B[0m \u001B[43m    \u001B[49m\u001B[43mdayfirst\u001B[49m\u001B[38;5;241;43m=\u001B[39;49m\u001B[43mdayfirst\u001B[49m\u001B[43m,\u001B[49m\n\u001B[0;32m   2403\u001B[0m \u001B[43m    \u001B[49m\u001B[43myearfirst\u001B[49m\u001B[38;5;241;43m=\u001B[39;49m\u001B[43myearfirst\u001B[49m\u001B[43m,\u001B[49m\n\u001B[0;32m   2404\u001B[0m \u001B[43m    \u001B[49m\u001B[43mcreso\u001B[49m\u001B[38;5;241;43m=\u001B[39;49m\u001B[43mabbrev_to_npy_unit\u001B[49m\u001B[43m(\u001B[49m\u001B[43mout_unit\u001B[49m\u001B[43m)\u001B[49m\u001B[43m,\u001B[49m\n\u001B[0;32m   2405\u001B[0m \u001B[43m\u001B[49m\u001B[43m)\u001B[49m\n\u001B[0;32m   2407\u001B[0m \u001B[38;5;28;01mif\u001B[39;00m tz_parsed \u001B[38;5;129;01mis\u001B[39;00m \u001B[38;5;129;01mnot\u001B[39;00m \u001B[38;5;28;01mNone\u001B[39;00m:\n\u001B[0;32m   2408\u001B[0m     \u001B[38;5;66;03m# We can take a shortcut since the datetime64 numpy array\u001B[39;00m\n\u001B[0;32m   2409\u001B[0m     \u001B[38;5;66;03m#  is in UTC\u001B[39;00m\n\u001B[0;32m   2410\u001B[0m     \u001B[38;5;28;01mreturn\u001B[39;00m result, tz_parsed\n",
      "File \u001B[1;32mtslib.pyx:414\u001B[0m, in \u001B[0;36mpandas._libs.tslib.array_to_datetime\u001B[1;34m()\u001B[0m\n",
      "File \u001B[1;32mtslib.pyx:596\u001B[0m, in \u001B[0;36mpandas._libs.tslib.array_to_datetime\u001B[1;34m()\u001B[0m\n",
      "File \u001B[1;32mtslib.pyx:553\u001B[0m, in \u001B[0;36mpandas._libs.tslib.array_to_datetime\u001B[1;34m()\u001B[0m\n",
      "File \u001B[1;32mconversion.pyx:641\u001B[0m, in \u001B[0;36mpandas._libs.tslibs.conversion.convert_str_to_tsobject\u001B[1;34m()\u001B[0m\n",
      "File \u001B[1;32mparsing.pyx:336\u001B[0m, in \u001B[0;36mpandas._libs.tslibs.parsing.parse_datetime_string\u001B[1;34m()\u001B[0m\n",
      "File \u001B[1;32mparsing.pyx:666\u001B[0m, in \u001B[0;36mpandas._libs.tslibs.parsing.dateutil_parse\u001B[1;34m()\u001B[0m\n",
      "\u001B[1;31mDateParseError\u001B[0m: Unknown datetime string format, unable to parse: 1983-11-30 (1957-03-04), at position 51"
     ]
    }
   ],
   "execution_count": 69
  },
  {
   "metadata": {
    "ExecuteTime": {
     "end_time": "2024-11-25T18:28:47.473030Z",
     "start_time": "2024-11-25T18:28:47.437743Z"
    }
   },
   "cell_type": "code",
   "source": "dpd[\"new\"] = dpd.included.to_datetime(dpd.included, format=\"%d-%m-%Y\")",
   "id": "22b78927a38efc66",
   "outputs": [
    {
     "ename": "AttributeError",
     "evalue": "'Series' object has no attribute 'to_datetime'",
     "output_type": "error",
     "traceback": [
      "\u001B[1;31m---------------------------------------------------------------------------\u001B[0m",
      "\u001B[1;31mAttributeError\u001B[0m                            Traceback (most recent call last)",
      "\u001B[1;32m~\\AppData\\Local\\Temp\\ipykernel_21352\\1704677776.py\u001B[0m in \u001B[0;36m?\u001B[1;34m()\u001B[0m\n\u001B[1;32m----> 1\u001B[1;33m \u001B[0mdpd\u001B[0m\u001B[1;33m[\u001B[0m\u001B[1;34m\"new\"\u001B[0m\u001B[1;33m]\u001B[0m \u001B[1;33m=\u001B[0m \u001B[0mdpd\u001B[0m\u001B[1;33m.\u001B[0m\u001B[0mincluded\u001B[0m\u001B[1;33m.\u001B[0m\u001B[0mto_datetime\u001B[0m\u001B[1;33m(\u001B[0m\u001B[0mdpd\u001B[0m\u001B[1;33m.\u001B[0m\u001B[0mincluded\u001B[0m\u001B[1;33m,\u001B[0m \u001B[0mformat\u001B[0m\u001B[1;33m=\u001B[0m\u001B[1;34m\"%d-%m-%Y\"\u001B[0m\u001B[1;33m)\u001B[0m\u001B[1;33m\u001B[0m\u001B[1;33m\u001B[0m\u001B[0m\n\u001B[0m",
      "\u001B[1;32m~\\AppData\\Local\\Programs\\Python\\Python312\\Lib\\site-packages\\pandas\\core\\generic.py\u001B[0m in \u001B[0;36m?\u001B[1;34m(self, name)\u001B[0m\n\u001B[0;32m   6295\u001B[0m             \u001B[1;32mand\u001B[0m \u001B[0mname\u001B[0m \u001B[1;32mnot\u001B[0m \u001B[1;32min\u001B[0m \u001B[0mself\u001B[0m\u001B[1;33m.\u001B[0m\u001B[0m_accessors\u001B[0m\u001B[1;33m\u001B[0m\u001B[1;33m\u001B[0m\u001B[0m\n\u001B[0;32m   6296\u001B[0m             \u001B[1;32mand\u001B[0m \u001B[0mself\u001B[0m\u001B[1;33m.\u001B[0m\u001B[0m_info_axis\u001B[0m\u001B[1;33m.\u001B[0m\u001B[0m_can_hold_identifiers_and_holds_name\u001B[0m\u001B[1;33m(\u001B[0m\u001B[0mname\u001B[0m\u001B[1;33m)\u001B[0m\u001B[1;33m\u001B[0m\u001B[1;33m\u001B[0m\u001B[0m\n\u001B[0;32m   6297\u001B[0m         \u001B[1;33m)\u001B[0m\u001B[1;33m:\u001B[0m\u001B[1;33m\u001B[0m\u001B[1;33m\u001B[0m\u001B[0m\n\u001B[0;32m   6298\u001B[0m             \u001B[1;32mreturn\u001B[0m \u001B[0mself\u001B[0m\u001B[1;33m[\u001B[0m\u001B[0mname\u001B[0m\u001B[1;33m]\u001B[0m\u001B[1;33m\u001B[0m\u001B[1;33m\u001B[0m\u001B[0m\n\u001B[1;32m-> 6299\u001B[1;33m         \u001B[1;32mreturn\u001B[0m \u001B[0mobject\u001B[0m\u001B[1;33m.\u001B[0m\u001B[0m__getattribute__\u001B[0m\u001B[1;33m(\u001B[0m\u001B[0mself\u001B[0m\u001B[1;33m,\u001B[0m \u001B[0mname\u001B[0m\u001B[1;33m)\u001B[0m\u001B[1;33m\u001B[0m\u001B[1;33m\u001B[0m\u001B[0m\n\u001B[0m",
      "\u001B[1;31mAttributeError\u001B[0m: 'Series' object has no attribute 'to_datetime'"
     ]
    }
   ],
   "execution_count": 65
  },
  {
   "metadata": {},
   "cell_type": "code",
   "outputs": [],
   "execution_count": null,
   "source": "",
   "id": "3032cc6676573b98"
  },
  {
   "metadata": {},
   "cell_type": "markdown",
   "source": [
    "3. Describe the distribution of companies across sectors and create a plot that\n",
    "demonstrates the proportionality of the sectors (i.e. pie plot, or something like\n",
    "this)\n"
   ],
   "id": "f9ee6a88167f3cb9"
  },
  {
   "metadata": {
    "ExecuteTime": {
     "end_time": "2024-11-25T18:33:14.946271Z",
     "start_time": "2024-11-25T18:33:14.928528Z"
    }
   },
   "cell_type": "code",
   "source": [
    "sectors = dpd.groupby('GICS_Sector').first().index.to_list()\n",
    "scts = pd.DataFrame([], columns=sectors)"
   ],
   "id": "a638fe347a655eee",
   "outputs": [],
   "execution_count": 75
  },
  {
   "metadata": {
    "ExecuteTime": {
     "end_time": "2024-11-25T18:39:48.673835Z",
     "start_time": "2024-11-25T18:39:48.631884Z"
    }
   },
   "cell_type": "code",
   "source": [
    "dpd.groupby('GICS_Sector').agg({\"GICS_Sector\": [\"unique\"]}).reset_index()\n",
    "    "
   ],
   "id": "a5e6c4b566a4ee7d",
   "outputs": [
    {
     "data": {
      "text/plain": [
       "               GICS_Sector                          \n",
       "                                              unique\n",
       "0   Communication Services  [Communication Services]\n",
       "1   Consumer Discretionary  [Consumer Discretionary]\n",
       "2         Consumer Staples        [Consumer Staples]\n",
       "3                   Energy                  [Energy]\n",
       "4               Financials              [Financials]\n",
       "5              Health Care             [Health Care]\n",
       "6              Industrials             [Industrials]\n",
       "7   Information Technology  [Information Technology]\n",
       "8                Materials               [Materials]\n",
       "9              Real Estate             [Real Estate]\n",
       "10               Utilities               [Utilities]"
      ],
      "text/html": [
       "<div>\n",
       "<style scoped>\n",
       "    .dataframe tbody tr th:only-of-type {\n",
       "        vertical-align: middle;\n",
       "    }\n",
       "\n",
       "    .dataframe tbody tr th {\n",
       "        vertical-align: top;\n",
       "    }\n",
       "\n",
       "    .dataframe thead tr th {\n",
       "        text-align: left;\n",
       "    }\n",
       "</style>\n",
       "<table border=\"1\" class=\"dataframe\">\n",
       "  <thead>\n",
       "    <tr>\n",
       "      <th></th>\n",
       "      <th colspan=\"2\" halign=\"left\">GICS_Sector</th>\n",
       "    </tr>\n",
       "    <tr>\n",
       "      <th></th>\n",
       "      <th></th>\n",
       "      <th>unique</th>\n",
       "    </tr>\n",
       "  </thead>\n",
       "  <tbody>\n",
       "    <tr>\n",
       "      <th>0</th>\n",
       "      <td>Communication Services</td>\n",
       "      <td>[Communication Services]</td>\n",
       "    </tr>\n",
       "    <tr>\n",
       "      <th>1</th>\n",
       "      <td>Consumer Discretionary</td>\n",
       "      <td>[Consumer Discretionary]</td>\n",
       "    </tr>\n",
       "    <tr>\n",
       "      <th>2</th>\n",
       "      <td>Consumer Staples</td>\n",
       "      <td>[Consumer Staples]</td>\n",
       "    </tr>\n",
       "    <tr>\n",
       "      <th>3</th>\n",
       "      <td>Energy</td>\n",
       "      <td>[Energy]</td>\n",
       "    </tr>\n",
       "    <tr>\n",
       "      <th>4</th>\n",
       "      <td>Financials</td>\n",
       "      <td>[Financials]</td>\n",
       "    </tr>\n",
       "    <tr>\n",
       "      <th>5</th>\n",
       "      <td>Health Care</td>\n",
       "      <td>[Health Care]</td>\n",
       "    </tr>\n",
       "    <tr>\n",
       "      <th>6</th>\n",
       "      <td>Industrials</td>\n",
       "      <td>[Industrials]</td>\n",
       "    </tr>\n",
       "    <tr>\n",
       "      <th>7</th>\n",
       "      <td>Information Technology</td>\n",
       "      <td>[Information Technology]</td>\n",
       "    </tr>\n",
       "    <tr>\n",
       "      <th>8</th>\n",
       "      <td>Materials</td>\n",
       "      <td>[Materials]</td>\n",
       "    </tr>\n",
       "    <tr>\n",
       "      <th>9</th>\n",
       "      <td>Real Estate</td>\n",
       "      <td>[Real Estate]</td>\n",
       "    </tr>\n",
       "    <tr>\n",
       "      <th>10</th>\n",
       "      <td>Utilities</td>\n",
       "      <td>[Utilities]</td>\n",
       "    </tr>\n",
       "  </tbody>\n",
       "</table>\n",
       "</div>"
      ]
     },
     "execution_count": 80,
     "metadata": {},
     "output_type": "execute_result"
    }
   ],
   "execution_count": 80
  },
  {
   "metadata": {
    "ExecuteTime": {
     "end_time": "2024-11-25T18:45:34.216664Z",
     "start_time": "2024-11-25T18:45:34.195834Z"
    }
   },
   "cell_type": "code",
   "source": [
    "s_n = []\n",
    "for sec in sectors:\n",
    "    s_n.append(dpd['GICS_Sector'].value_counts().get(sec, 0))"
   ],
   "id": "2a1ce58c1d7cec92",
   "outputs": [],
   "execution_count": 83
  },
  {
   "metadata": {
    "ExecuteTime": {
     "end_time": "2024-11-25T18:58:27.176549Z",
     "start_time": "2024-11-25T18:58:26.949730Z"
    }
   },
   "cell_type": "code",
   "source": [
    "sectors_df = pd.DataFrame(s_n, index=sectors)\n",
    "sectors_df.plot.pie(figsize=(10, 5), subplots=True, legend=False)"
   ],
   "id": "fa53b4cd817e923",
   "outputs": [
    {
     "data": {
      "text/plain": [
       "array([<Axes: ylabel='0'>], dtype=object)"
      ]
     },
     "execution_count": 105,
     "metadata": {},
     "output_type": "execute_result"
    },
    {
     "data": {
      "text/plain": [
       "<Figure size 1000x500 with 1 Axes>"
      ],
      "image/png": "[encoded data removed]"
     },
     "metadata": {},
     "output_type": "display_data"
    }
   ],
   "execution_count": 105
  },
  {
   "metadata": {},
   "cell_type": "markdown",
   "source": [
    "4. Parse the “hq” column, extract the state of the hq and describe the distribution\n",
    "of the states \n"
   ],
   "id": "2ab19a608183f71e"
  },
  {
   "metadata": {
    "ExecuteTime": {
     "end_time": "2024-11-25T18:40:42.365919Z",
     "start_time": "2024-11-25T18:40:42.333943Z"
    }
   },
   "cell_type": "code",
   "source": "dpd[\"hq\"]",
   "id": "e611dd5f74be5098",
   "outputs": [
    {
     "data": {
      "text/plain": [
       "0        Saint Paul, Minnesota\n",
       "1         Milwaukee, Wisconsin\n",
       "2      North Chicago, Illinois\n",
       "3      North Chicago, Illinois\n",
       "4       Danvers, Massachusetts\n",
       "                ...           \n",
       "498       Louisville, Kentucky\n",
       "499     Lincolnshire, Illinois\n",
       "500            Warsaw, Indiana\n",
       "501       Salt Lake City, Utah\n",
       "502     Parsippany, New Jersey\n",
       "Name: hq, Length: 458, dtype: object"
      ]
     },
     "execution_count": 81,
     "metadata": {},
     "output_type": "execute_result"
    }
   ],
   "execution_count": 81
  },
  {
   "metadata": {},
   "cell_type": "code",
   "outputs": [],
   "execution_count": null,
   "source": "",
   "id": "19ae9b7410dfe8e2"
  }
 ],
 "metadata": {
  "kernelspec": {
   "display_name": "Python 3",
   "language": "python",
   "name": "python3"
  },
  "language_info": {
   "codemirror_mode": {
    "name": "ipython",
    "version": 2
   },
   "file_extension": ".py",
   "mimetype": "text/x-python",
   "name": "python",
   "nbconvert_exporter": "python",
   "pygments_lexer": "ipython2",
   "version": "2.7.6"
  }
 },
 "nbformat": 4,
 "nbformat_minor": 5
}
